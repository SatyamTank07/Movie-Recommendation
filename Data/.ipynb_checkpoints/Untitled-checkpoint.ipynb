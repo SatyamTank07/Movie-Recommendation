{
 "cells": [
  {
   "cell_type": "code",
   "execution_count": 332,
   "id": "fe73d67a-7889-40e5-87f3-4bc5121955ca",
   "metadata": {},
   "outputs": [],
   "source": [
    "import numpy as np\n",
    "import math\n",
    "import pandas as pd"
   ]
  },
  {
   "cell_type": "code",
   "execution_count": 134,
   "id": "899cf9ad-1035-481a-b5d8-52ba7c99675c",
   "metadata": {},
   "outputs": [],
   "source": [
    "# Load CSV files\n",
    "tmdb_movies = pd.read_csv('tmdb_5000_movies.csv')"
   ]
  },
  {
   "cell_type": "code",
   "execution_count": 135,
   "id": "0a7f8c3e-d496-4800-a9ce-65bf1e11065c",
   "metadata": {},
   "outputs": [
    {
     "data": {
      "text/html": [
       "<div>\n",
       "<style scoped>\n",
       "    .dataframe tbody tr th:only-of-type {\n",
       "        vertical-align: middle;\n",
       "    }\n",
       "\n",
       "    .dataframe tbody tr th {\n",
       "        vertical-align: top;\n",
       "    }\n",
       "\n",
       "    .dataframe thead th {\n",
       "        text-align: right;\n",
       "    }\n",
       "</style>\n",
       "<table border=\"1\" class=\"dataframe\">\n",
       "  <thead>\n",
       "    <tr style=\"text-align: right;\">\n",
       "      <th></th>\n",
       "      <th>budget</th>\n",
       "      <th>genres</th>\n",
       "      <th>homepage</th>\n",
       "      <th>id</th>\n",
       "      <th>keywords</th>\n",
       "      <th>original_language</th>\n",
       "      <th>original_title</th>\n",
       "      <th>overview</th>\n",
       "      <th>popularity</th>\n",
       "      <th>production_companies</th>\n",
       "      <th>production_countries</th>\n",
       "      <th>release_date</th>\n",
       "      <th>revenue</th>\n",
       "      <th>runtime</th>\n",
       "      <th>spoken_languages</th>\n",
       "      <th>status</th>\n",
       "      <th>tagline</th>\n",
       "      <th>title</th>\n",
       "      <th>vote_average</th>\n",
       "      <th>vote_count</th>\n",
       "    </tr>\n",
       "  </thead>\n",
       "  <tbody>\n",
       "    <tr>\n",
       "      <th>2984</th>\n",
       "      <td>6000000</td>\n",
       "      <td>[{\"id\": 18, \"name\": \"Drama\"}, {\"id\": 35, \"name...</td>\n",
       "      <td>NaN</td>\n",
       "      <td>16781</td>\n",
       "      <td>[{\"id\": 9888, \"name\": \"spanking\"}, {\"id\": 1018...</td>\n",
       "      <td>en</td>\n",
       "      <td>Madea's Family Reunion</td>\n",
       "      <td>Based upon Tyler Perry's acclaimed stage produ...</td>\n",
       "      <td>5.882208</td>\n",
       "      <td>[{\"name\": \"Lions Gate Films\", \"id\": 35}]</td>\n",
       "      <td>[{\"iso_3166_1\": \"US\", \"name\": \"United States o...</td>\n",
       "      <td>2006-02-24</td>\n",
       "      <td>57231524</td>\n",
       "      <td>110.0</td>\n",
       "      <td>[{\"iso_639_1\": \"en\", \"name\": \"English\"}, {\"iso...</td>\n",
       "      <td>Released</td>\n",
       "      <td>NaN</td>\n",
       "      <td>Madea's Family Reunion</td>\n",
       "      <td>6.0</td>\n",
       "      <td>77</td>\n",
       "    </tr>\n",
       "  </tbody>\n",
       "</table>\n",
       "</div>"
      ],
      "text/plain": [
       "       budget                                             genres homepage  \\\n",
       "2984  6000000  [{\"id\": 18, \"name\": \"Drama\"}, {\"id\": 35, \"name...      NaN   \n",
       "\n",
       "         id                                           keywords  \\\n",
       "2984  16781  [{\"id\": 9888, \"name\": \"spanking\"}, {\"id\": 1018...   \n",
       "\n",
       "     original_language          original_title  \\\n",
       "2984                en  Madea's Family Reunion   \n",
       "\n",
       "                                               overview  popularity  \\\n",
       "2984  Based upon Tyler Perry's acclaimed stage produ...    5.882208   \n",
       "\n",
       "                          production_companies  \\\n",
       "2984  [{\"name\": \"Lions Gate Films\", \"id\": 35}]   \n",
       "\n",
       "                                   production_countries release_date  \\\n",
       "2984  [{\"iso_3166_1\": \"US\", \"name\": \"United States o...   2006-02-24   \n",
       "\n",
       "       revenue  runtime                                   spoken_languages  \\\n",
       "2984  57231524    110.0  [{\"iso_639_1\": \"en\", \"name\": \"English\"}, {\"iso...   \n",
       "\n",
       "        status tagline                   title  vote_average  vote_count  \n",
       "2984  Released     NaN  Madea's Family Reunion           6.0          77  "
      ]
     },
     "execution_count": 135,
     "metadata": {},
     "output_type": "execute_result"
    }
   ],
   "source": [
    "tmdb_movies.sample(1)"
   ]
  },
  {
   "cell_type": "code",
   "execution_count": 136,
   "id": "dfa1618d-86bd-4f96-8814-1ba99dfccf4d",
   "metadata": {},
   "outputs": [
    {
     "data": {
      "text/plain": [
       "'[{\"name\": \"Ingenious Film Partners\", \"id\": 289}, {\"name\": \"Twentieth Century Fox Film Corporation\", \"id\": 306}, {\"name\": \"Dune Entertainment\", \"id\": 444}, {\"name\": \"Lightstorm Entertainment\", \"id\": 574}]'"
      ]
     },
     "execution_count": 136,
     "metadata": {},
     "output_type": "execute_result"
    }
   ],
   "source": [
    "tmdb_movies['production_companies'][0]"
   ]
  },
  {
   "cell_type": "code",
   "execution_count": 137,
   "id": "b024c263-4b3b-437e-999c-6f9a45951d18",
   "metadata": {},
   "outputs": [],
   "source": [
    "import ast\n",
    "\n",
    "def extract_names(col_str):\n",
    "    values = ast.literal_eval(col_str)\n",
    "    return [value['name'] for value in values]"
   ]
  },
  {
   "cell_type": "code",
   "execution_count": 138,
   "id": "be33d081-6d00-41d7-8981-d3f010ce3fe6",
   "metadata": {},
   "outputs": [],
   "source": [
    "tmdb_movies['genres'] = tmdb_movies['genres'].apply(extract_names)\n",
    "tmdb_movies['keywords'] = tmdb_movies['keywords'].apply(extract_names)\n",
    "tmdb_movies['production_companies'] = tmdb_movies['production_companies'].apply(extract_names)\n",
    "tmdb_movies['production_countries'] = tmdb_movies['production_countries'].apply(extract_names)\n",
    "tmdb_movies['spoken_languages'] = tmdb_movies['spoken_languages'].apply(extract_names)\n"
   ]
  },
  {
   "cell_type": "code",
   "execution_count": 139,
   "id": "3822e14f-7aac-4735-adae-1807cc432873",
   "metadata": {},
   "outputs": [
    {
     "data": {
      "text/plain": [
       "budget                     0\n",
       "genres                     0\n",
       "homepage                3091\n",
       "id                         0\n",
       "keywords                   0\n",
       "original_language          0\n",
       "original_title             0\n",
       "overview                   3\n",
       "popularity                 0\n",
       "production_companies       0\n",
       "production_countries       0\n",
       "release_date               1\n",
       "revenue                    0\n",
       "runtime                    2\n",
       "spoken_languages           0\n",
       "status                     0\n",
       "tagline                  844\n",
       "title                      0\n",
       "vote_average               0\n",
       "vote_count                 0\n",
       "dtype: int64"
      ]
     },
     "execution_count": 139,
     "metadata": {},
     "output_type": "execute_result"
    }
   ],
   "source": [
    "tmdb_movies.isna().sum()"
   ]
  },
  {
   "cell_type": "code",
   "execution_count": 140,
   "id": "52cf0449-aa03-40c3-9a14-0c1af2a3507b",
   "metadata": {},
   "outputs": [],
   "source": [
    "tmdb_movies.drop(columns=[\"homepage\", \"tagline\"],inplace=True)"
   ]
  },
  {
   "cell_type": "code",
   "execution_count": 141,
   "id": "45a33ee0-0cb8-40cc-b5b3-779e55d9b6ae",
   "metadata": {},
   "outputs": [
    {
     "data": {
      "text/html": [
       "<div>\n",
       "<style scoped>\n",
       "    .dataframe tbody tr th:only-of-type {\n",
       "        vertical-align: middle;\n",
       "    }\n",
       "\n",
       "    .dataframe tbody tr th {\n",
       "        vertical-align: top;\n",
       "    }\n",
       "\n",
       "    .dataframe thead th {\n",
       "        text-align: right;\n",
       "    }\n",
       "</style>\n",
       "<table border=\"1\" class=\"dataframe\">\n",
       "  <thead>\n",
       "    <tr style=\"text-align: right;\">\n",
       "      <th></th>\n",
       "      <th>budget</th>\n",
       "      <th>genres</th>\n",
       "      <th>id</th>\n",
       "      <th>keywords</th>\n",
       "      <th>original_language</th>\n",
       "      <th>original_title</th>\n",
       "      <th>overview</th>\n",
       "      <th>popularity</th>\n",
       "      <th>production_companies</th>\n",
       "      <th>production_countries</th>\n",
       "      <th>release_date</th>\n",
       "      <th>revenue</th>\n",
       "      <th>runtime</th>\n",
       "      <th>spoken_languages</th>\n",
       "      <th>status</th>\n",
       "      <th>title</th>\n",
       "      <th>vote_average</th>\n",
       "      <th>vote_count</th>\n",
       "    </tr>\n",
       "  </thead>\n",
       "  <tbody>\n",
       "    <tr>\n",
       "      <th>0</th>\n",
       "      <td>237000000</td>\n",
       "      <td>[Action, Adventure, Fantasy, Science Fiction]</td>\n",
       "      <td>19995</td>\n",
       "      <td>[culture clash, future, space war, space colon...</td>\n",
       "      <td>en</td>\n",
       "      <td>Avatar</td>\n",
       "      <td>In the 22nd century, a paraplegic Marine is di...</td>\n",
       "      <td>150.437577</td>\n",
       "      <td>[Ingenious Film Partners, Twentieth Century Fo...</td>\n",
       "      <td>[United States of America, United Kingdom]</td>\n",
       "      <td>2009-12-10</td>\n",
       "      <td>2787965087</td>\n",
       "      <td>162.0</td>\n",
       "      <td>[English, Español]</td>\n",
       "      <td>Released</td>\n",
       "      <td>Avatar</td>\n",
       "      <td>7.2</td>\n",
       "      <td>11800</td>\n",
       "    </tr>\n",
       "    <tr>\n",
       "      <th>1</th>\n",
       "      <td>300000000</td>\n",
       "      <td>[Adventure, Fantasy, Action]</td>\n",
       "      <td>285</td>\n",
       "      <td>[ocean, drug abuse, exotic island, east india ...</td>\n",
       "      <td>en</td>\n",
       "      <td>Pirates of the Caribbean: At World's End</td>\n",
       "      <td>Captain Barbossa, long believed to be dead, ha...</td>\n",
       "      <td>139.082615</td>\n",
       "      <td>[Walt Disney Pictures, Jerry Bruckheimer Films...</td>\n",
       "      <td>[United States of America]</td>\n",
       "      <td>2007-05-19</td>\n",
       "      <td>961000000</td>\n",
       "      <td>169.0</td>\n",
       "      <td>[English]</td>\n",
       "      <td>Released</td>\n",
       "      <td>Pirates of the Caribbean: At World's End</td>\n",
       "      <td>6.9</td>\n",
       "      <td>4500</td>\n",
       "    </tr>\n",
       "  </tbody>\n",
       "</table>\n",
       "</div>"
      ],
      "text/plain": [
       "      budget                                         genres     id  \\\n",
       "0  237000000  [Action, Adventure, Fantasy, Science Fiction]  19995   \n",
       "1  300000000                   [Adventure, Fantasy, Action]    285   \n",
       "\n",
       "                                            keywords original_language  \\\n",
       "0  [culture clash, future, space war, space colon...                en   \n",
       "1  [ocean, drug abuse, exotic island, east india ...                en   \n",
       "\n",
       "                             original_title  \\\n",
       "0                                    Avatar   \n",
       "1  Pirates of the Caribbean: At World's End   \n",
       "\n",
       "                                            overview  popularity  \\\n",
       "0  In the 22nd century, a paraplegic Marine is di...  150.437577   \n",
       "1  Captain Barbossa, long believed to be dead, ha...  139.082615   \n",
       "\n",
       "                                production_companies  \\\n",
       "0  [Ingenious Film Partners, Twentieth Century Fo...   \n",
       "1  [Walt Disney Pictures, Jerry Bruckheimer Films...   \n",
       "\n",
       "                         production_countries release_date     revenue  \\\n",
       "0  [United States of America, United Kingdom]   2009-12-10  2787965087   \n",
       "1                  [United States of America]   2007-05-19   961000000   \n",
       "\n",
       "   runtime    spoken_languages    status  \\\n",
       "0    162.0  [English, Español]  Released   \n",
       "1    169.0           [English]  Released   \n",
       "\n",
       "                                      title  vote_average  vote_count  \n",
       "0                                    Avatar           7.2       11800  \n",
       "1  Pirates of the Caribbean: At World's End           6.9        4500  "
      ]
     },
     "execution_count": 141,
     "metadata": {},
     "output_type": "execute_result"
    }
   ],
   "source": [
    "tmdb_movies.head(2)"
   ]
  },
  {
   "cell_type": "markdown",
   "id": "df30265b-83cd-4534-b3e4-5ccd4f159543",
   "metadata": {},
   "source": [
    "### dataset2"
   ]
  },
  {
   "cell_type": "code",
   "execution_count": null,
   "id": "18d49a6e-0b6a-496c-8a7b-f4d058fc31c1",
   "metadata": {},
   "outputs": [],
   "source": []
  },
  {
   "cell_type": "code",
   "execution_count": 142,
   "id": "4cfbbf8c-df10-41d4-ad28-3a40eff01d40",
   "metadata": {},
   "outputs": [],
   "source": [
    "tmdb_credits = pd.read_csv('tmdb_5000_credits.csv')"
   ]
  },
  {
   "cell_type": "code",
   "execution_count": 143,
   "id": "00d0578a-ab54-44a8-85a1-8b8942e3a620",
   "metadata": {},
   "outputs": [
    {
     "data": {
      "text/html": [
       "<div>\n",
       "<style scoped>\n",
       "    .dataframe tbody tr th:only-of-type {\n",
       "        vertical-align: middle;\n",
       "    }\n",
       "\n",
       "    .dataframe tbody tr th {\n",
       "        vertical-align: top;\n",
       "    }\n",
       "\n",
       "    .dataframe thead th {\n",
       "        text-align: right;\n",
       "    }\n",
       "</style>\n",
       "<table border=\"1\" class=\"dataframe\">\n",
       "  <thead>\n",
       "    <tr style=\"text-align: right;\">\n",
       "      <th></th>\n",
       "      <th>movie_id</th>\n",
       "      <th>title</th>\n",
       "      <th>cast</th>\n",
       "      <th>crew</th>\n",
       "    </tr>\n",
       "  </thead>\n",
       "  <tbody>\n",
       "    <tr>\n",
       "      <th>0</th>\n",
       "      <td>19995</td>\n",
       "      <td>Avatar</td>\n",
       "      <td>[{\"cast_id\": 242, \"character\": \"Jake Sully\", \"...</td>\n",
       "      <td>[{\"credit_id\": \"52fe48009251416c750aca23\", \"de...</td>\n",
       "    </tr>\n",
       "    <tr>\n",
       "      <th>1</th>\n",
       "      <td>285</td>\n",
       "      <td>Pirates of the Caribbean: At World's End</td>\n",
       "      <td>[{\"cast_id\": 4, \"character\": \"Captain Jack Spa...</td>\n",
       "      <td>[{\"credit_id\": \"52fe4232c3a36847f800b579\", \"de...</td>\n",
       "    </tr>\n",
       "  </tbody>\n",
       "</table>\n",
       "</div>"
      ],
      "text/plain": [
       "   movie_id                                     title  \\\n",
       "0     19995                                    Avatar   \n",
       "1       285  Pirates of the Caribbean: At World's End   \n",
       "\n",
       "                                                cast  \\\n",
       "0  [{\"cast_id\": 242, \"character\": \"Jake Sully\", \"...   \n",
       "1  [{\"cast_id\": 4, \"character\": \"Captain Jack Spa...   \n",
       "\n",
       "                                                crew  \n",
       "0  [{\"credit_id\": \"52fe48009251416c750aca23\", \"de...  \n",
       "1  [{\"credit_id\": \"52fe4232c3a36847f800b579\", \"de...  "
      ]
     },
     "execution_count": 143,
     "metadata": {},
     "output_type": "execute_result"
    }
   ],
   "source": [
    "tmdb_credits.head(2)"
   ]
  },
  {
   "cell_type": "code",
   "execution_count": 144,
   "id": "f9856605-4d5b-4cc9-a99d-9001b40ef2d8",
   "metadata": {},
   "outputs": [],
   "source": [
    "def extract_character(cast_str):\n",
    "    cast_list = ast.literal_eval(cast_str)\n",
    "    return [member['name'] for member in cast_list[:3]]"
   ]
  },
  {
   "cell_type": "code",
   "execution_count": 145,
   "id": "ed36130d-4d3e-48c0-aea9-4eee18949d2a",
   "metadata": {},
   "outputs": [],
   "source": [
    "tmdb_credits['cast'] = tmdb_credits['cast'].apply(extract_character)"
   ]
  },
  {
   "cell_type": "code",
   "execution_count": 146,
   "id": "67f18a32-516a-47a0-b5d8-8482c6b9fa60",
   "metadata": {
    "scrolled": true
   },
   "outputs": [],
   "source": [
    "# tmdb_credits['crew']"
   ]
  },
  {
   "cell_type": "code",
   "execution_count": 147,
   "id": "393287c1-c1ce-4599-ad90-eb30b0342c62",
   "metadata": {},
   "outputs": [
    {
     "data": {
      "text/plain": [
       "movie_id    0\n",
       "title       0\n",
       "cast        0\n",
       "crew        0\n",
       "dtype: int64"
      ]
     },
     "execution_count": 147,
     "metadata": {},
     "output_type": "execute_result"
    }
   ],
   "source": [
    "tmdb_credits.isna().sum()"
   ]
  },
  {
   "cell_type": "code",
   "execution_count": 148,
   "id": "6b5dc8fc-b9ed-4b45-a41e-b0d0f6af3dc4",
   "metadata": {},
   "outputs": [
    {
     "data": {
      "text/plain": [
       "(4803, 4)"
      ]
     },
     "execution_count": 148,
     "metadata": {},
     "output_type": "execute_result"
    }
   ],
   "source": [
    "tmdb_credits.shape"
   ]
  },
  {
   "cell_type": "code",
   "execution_count": 149,
   "id": "a79cc42c-2198-4b8a-948b-5866202d788b",
   "metadata": {},
   "outputs": [],
   "source": [
    "def fetch_director(text):\n",
    "    L = []\n",
    "    for i in ast.literal_eval(text):\n",
    "        if i['job'] == 'Director':\n",
    "            L.append(i['name'])\n",
    "    return L "
   ]
  },
  {
   "cell_type": "code",
   "execution_count": 150,
   "id": "03b509bf-f80f-4822-a3ad-283f336f625b",
   "metadata": {},
   "outputs": [],
   "source": [
    "tmdb_credits['crew'] =  tmdb_credits['crew'].apply(fetch_director)"
   ]
  },
  {
   "cell_type": "code",
   "execution_count": 151,
   "id": "b538a3ca-913f-4636-909f-efc089306277",
   "metadata": {},
   "outputs": [
    {
     "data": {
      "text/html": [
       "<div>\n",
       "<style scoped>\n",
       "    .dataframe tbody tr th:only-of-type {\n",
       "        vertical-align: middle;\n",
       "    }\n",
       "\n",
       "    .dataframe tbody tr th {\n",
       "        vertical-align: top;\n",
       "    }\n",
       "\n",
       "    .dataframe thead th {\n",
       "        text-align: right;\n",
       "    }\n",
       "</style>\n",
       "<table border=\"1\" class=\"dataframe\">\n",
       "  <thead>\n",
       "    <tr style=\"text-align: right;\">\n",
       "      <th></th>\n",
       "      <th>movie_id</th>\n",
       "      <th>title</th>\n",
       "      <th>cast</th>\n",
       "      <th>crew</th>\n",
       "    </tr>\n",
       "  </thead>\n",
       "  <tbody>\n",
       "    <tr>\n",
       "      <th>0</th>\n",
       "      <td>19995</td>\n",
       "      <td>Avatar</td>\n",
       "      <td>[Sam Worthington, Zoe Saldana, Sigourney Weaver]</td>\n",
       "      <td>[James Cameron]</td>\n",
       "    </tr>\n",
       "    <tr>\n",
       "      <th>1</th>\n",
       "      <td>285</td>\n",
       "      <td>Pirates of the Caribbean: At World's End</td>\n",
       "      <td>[Johnny Depp, Orlando Bloom, Keira Knightley]</td>\n",
       "      <td>[Gore Verbinski]</td>\n",
       "    </tr>\n",
       "  </tbody>\n",
       "</table>\n",
       "</div>"
      ],
      "text/plain": [
       "   movie_id                                     title  \\\n",
       "0     19995                                    Avatar   \n",
       "1       285  Pirates of the Caribbean: At World's End   \n",
       "\n",
       "                                               cast              crew  \n",
       "0  [Sam Worthington, Zoe Saldana, Sigourney Weaver]   [James Cameron]  \n",
       "1     [Johnny Depp, Orlando Bloom, Keira Knightley]  [Gore Verbinski]  "
      ]
     },
     "execution_count": 151,
     "metadata": {},
     "output_type": "execute_result"
    }
   ],
   "source": [
    "tmdb_credits.head(2)"
   ]
  },
  {
   "cell_type": "code",
   "execution_count": 152,
   "id": "df87a8cf-eac9-47eb-96ba-0f71f079494d",
   "metadata": {},
   "outputs": [],
   "source": [
    "tmdb_credits.rename(columns={'crew': 'director'}, inplace=True)"
   ]
  },
  {
   "cell_type": "code",
   "execution_count": 272,
   "id": "0b648238-5858-499f-a782-2af03c3ea91d",
   "metadata": {},
   "outputs": [],
   "source": [
    "movies = tmdb_movies.merge(tmdb_credits,on='title')"
   ]
  },
  {
   "cell_type": "code",
   "execution_count": 273,
   "id": "02422d4e-2017-4775-85af-d8cec04605ba",
   "metadata": {},
   "outputs": [
    {
     "data": {
      "text/plain": [
       "(4809, 21)"
      ]
     },
     "execution_count": 273,
     "metadata": {},
     "output_type": "execute_result"
    }
   ],
   "source": [
    "movies.shape"
   ]
  },
  {
   "cell_type": "code",
   "execution_count": 274,
   "id": "c45592dd-aa15-4502-9f1d-530be2d32c5b",
   "metadata": {},
   "outputs": [
    {
     "data": {
      "text/plain": [
       "budget                  0\n",
       "genres                  0\n",
       "id                      0\n",
       "keywords                0\n",
       "original_language       0\n",
       "original_title          0\n",
       "overview                3\n",
       "popularity              0\n",
       "production_companies    0\n",
       "production_countries    0\n",
       "release_date            1\n",
       "revenue                 0\n",
       "runtime                 2\n",
       "spoken_languages        0\n",
       "status                  0\n",
       "title                   0\n",
       "vote_average            0\n",
       "vote_count              0\n",
       "movie_id                0\n",
       "cast                    0\n",
       "director                0\n",
       "dtype: int64"
      ]
     },
     "execution_count": 274,
     "metadata": {},
     "output_type": "execute_result"
    }
   ],
   "source": [
    "movies.isna().sum()"
   ]
  },
  {
   "cell_type": "code",
   "execution_count": 276,
   "id": "12c088eb-c287-4be7-ae5c-50a602afc55e",
   "metadata": {},
   "outputs": [],
   "source": [
    "movies.dropna(inplace=True)"
   ]
  },
  {
   "cell_type": "code",
   "execution_count": 278,
   "id": "7c7d4c2a-6813-437b-8bdd-71bffbd52aed",
   "metadata": {},
   "outputs": [
    {
     "data": {
      "text/html": [
       "<div>\n",
       "<style scoped>\n",
       "    .dataframe tbody tr th:only-of-type {\n",
       "        vertical-align: middle;\n",
       "    }\n",
       "\n",
       "    .dataframe tbody tr th {\n",
       "        vertical-align: top;\n",
       "    }\n",
       "\n",
       "    .dataframe thead th {\n",
       "        text-align: right;\n",
       "    }\n",
       "</style>\n",
       "<table border=\"1\" class=\"dataframe\">\n",
       "  <thead>\n",
       "    <tr style=\"text-align: right;\">\n",
       "      <th></th>\n",
       "      <th>budget</th>\n",
       "      <th>genres</th>\n",
       "      <th>id</th>\n",
       "      <th>keywords</th>\n",
       "      <th>original_language</th>\n",
       "      <th>original_title</th>\n",
       "      <th>overview</th>\n",
       "      <th>popularity</th>\n",
       "      <th>production_companies</th>\n",
       "      <th>production_countries</th>\n",
       "      <th>...</th>\n",
       "      <th>revenue</th>\n",
       "      <th>runtime</th>\n",
       "      <th>spoken_languages</th>\n",
       "      <th>status</th>\n",
       "      <th>title</th>\n",
       "      <th>vote_average</th>\n",
       "      <th>vote_count</th>\n",
       "      <th>movie_id</th>\n",
       "      <th>cast</th>\n",
       "      <th>director</th>\n",
       "    </tr>\n",
       "  </thead>\n",
       "  <tbody>\n",
       "    <tr>\n",
       "      <th>4338</th>\n",
       "      <td>1000000</td>\n",
       "      <td>[Adventure, Drama, Science Fiction]</td>\n",
       "      <td>811</td>\n",
       "      <td>[space marine, sunlight, plants, space travel,...</td>\n",
       "      <td>en</td>\n",
       "      <td>Silent Running</td>\n",
       "      <td>In a future Earth barren of all flora and faun...</td>\n",
       "      <td>11.095414</td>\n",
       "      <td>[Universal Pictures, Trumbull/Gruskoff Product...</td>\n",
       "      <td>[United States of America]</td>\n",
       "      <td>...</td>\n",
       "      <td>0</td>\n",
       "      <td>89.0</td>\n",
       "      <td>[English, Deutsch]</td>\n",
       "      <td>Released</td>\n",
       "      <td>Silent Running</td>\n",
       "      <td>6.3</td>\n",
       "      <td>177</td>\n",
       "      <td>811</td>\n",
       "      <td>[Bruce Dern, Cliff Potts, Ron Rifkin]</td>\n",
       "      <td>[Douglas Trumbull]</td>\n",
       "    </tr>\n",
       "    <tr>\n",
       "      <th>4726</th>\n",
       "      <td>8500000</td>\n",
       "      <td>[Drama]</td>\n",
       "      <td>339408</td>\n",
       "      <td>[slavery]</td>\n",
       "      <td>en</td>\n",
       "      <td>The Birth of a Nation</td>\n",
       "      <td>Nat Turner, a former slave in America, leads a...</td>\n",
       "      <td>9.452808</td>\n",
       "      <td>[Phantom Four, Mandalay Pictures, Bron Studios...</td>\n",
       "      <td>[United States of America]</td>\n",
       "      <td>...</td>\n",
       "      <td>15861566</td>\n",
       "      <td>120.0</td>\n",
       "      <td>[English]</td>\n",
       "      <td>Released</td>\n",
       "      <td>The Birth of a Nation</td>\n",
       "      <td>6.5</td>\n",
       "      <td>178</td>\n",
       "      <td>339408</td>\n",
       "      <td>[Nate Parker, Armie Hammer, Aja Naomi King]</td>\n",
       "      <td>[Nate Parker]</td>\n",
       "    </tr>\n",
       "    <tr>\n",
       "      <th>3144</th>\n",
       "      <td>11000000</td>\n",
       "      <td>[Comedy]</td>\n",
       "      <td>10471</td>\n",
       "      <td>[prison, repayment, gang war, boy gang, reveng...</td>\n",
       "      <td>en</td>\n",
       "      <td>Next Friday</td>\n",
       "      <td>Ice Cube returns as Craig Jones, a streetwise ...</td>\n",
       "      <td>9.337388</td>\n",
       "      <td>[New Line Cinema]</td>\n",
       "      <td>[United States of America]</td>\n",
       "      <td>...</td>\n",
       "      <td>59827328</td>\n",
       "      <td>98.0</td>\n",
       "      <td>[English]</td>\n",
       "      <td>Released</td>\n",
       "      <td>Next Friday</td>\n",
       "      <td>6.4</td>\n",
       "      <td>135</td>\n",
       "      <td>10471</td>\n",
       "      <td>[Ice Cube, Mike Epps, Justin Pierce]</td>\n",
       "      <td>[Steve Carr]</td>\n",
       "    </tr>\n",
       "    <tr>\n",
       "      <th>1129</th>\n",
       "      <td>42000000</td>\n",
       "      <td>[Comedy, Drama, Romance]</td>\n",
       "      <td>25189</td>\n",
       "      <td>[sex, professor, wedding, woman director, colu...</td>\n",
       "      <td>en</td>\n",
       "      <td>The Mirror Has Two Faces</td>\n",
       "      <td>Rose Morgan (Barbara Streisand), who still liv...</td>\n",
       "      <td>3.844926</td>\n",
       "      <td>[TriStar Pictures, Phoenix Pictures]</td>\n",
       "      <td>[United States of America]</td>\n",
       "      <td>...</td>\n",
       "      <td>0</td>\n",
       "      <td>126.0</td>\n",
       "      <td>[English]</td>\n",
       "      <td>Released</td>\n",
       "      <td>The Mirror Has Two Faces</td>\n",
       "      <td>6.5</td>\n",
       "      <td>47</td>\n",
       "      <td>25189</td>\n",
       "      <td>[Barbra Streisand, Jeff Bridges, Lauren Bacall]</td>\n",
       "      <td>[Barbra Streisand]</td>\n",
       "    </tr>\n",
       "    <tr>\n",
       "      <th>2456</th>\n",
       "      <td>16000000</td>\n",
       "      <td>[Comedy]</td>\n",
       "      <td>8467</td>\n",
       "      <td>[gas station, motel, utah, stupidity, pill, pr...</td>\n",
       "      <td>en</td>\n",
       "      <td>Dumb and Dumber</td>\n",
       "      <td>Lloyd and Harry are two men whose stupidity is...</td>\n",
       "      <td>35.777067</td>\n",
       "      <td>[New Line Cinema, Motion Picture Corporation o...</td>\n",
       "      <td>[United States of America]</td>\n",
       "      <td>...</td>\n",
       "      <td>247275374</td>\n",
       "      <td>107.0</td>\n",
       "      <td>[English]</td>\n",
       "      <td>Released</td>\n",
       "      <td>Dumb and Dumber</td>\n",
       "      <td>6.5</td>\n",
       "      <td>1859</td>\n",
       "      <td>8467</td>\n",
       "      <td>[Jim Carrey, Jeff Daniels, Lauren Holly]</td>\n",
       "      <td>[Bobby Farrelly, Peter Farrelly]</td>\n",
       "    </tr>\n",
       "  </tbody>\n",
       "</table>\n",
       "<p>5 rows × 21 columns</p>\n",
       "</div>"
      ],
      "text/plain": [
       "        budget                               genres      id  \\\n",
       "4338   1000000  [Adventure, Drama, Science Fiction]     811   \n",
       "4726   8500000                              [Drama]  339408   \n",
       "3144  11000000                             [Comedy]   10471   \n",
       "1129  42000000             [Comedy, Drama, Romance]   25189   \n",
       "2456  16000000                             [Comedy]    8467   \n",
       "\n",
       "                                               keywords original_language  \\\n",
       "4338  [space marine, sunlight, plants, space travel,...                en   \n",
       "4726                                          [slavery]                en   \n",
       "3144  [prison, repayment, gang war, boy gang, reveng...                en   \n",
       "1129  [sex, professor, wedding, woman director, colu...                en   \n",
       "2456  [gas station, motel, utah, stupidity, pill, pr...                en   \n",
       "\n",
       "                original_title  \\\n",
       "4338            Silent Running   \n",
       "4726     The Birth of a Nation   \n",
       "3144               Next Friday   \n",
       "1129  The Mirror Has Two Faces   \n",
       "2456           Dumb and Dumber   \n",
       "\n",
       "                                               overview  popularity  \\\n",
       "4338  In a future Earth barren of all flora and faun...   11.095414   \n",
       "4726  Nat Turner, a former slave in America, leads a...    9.452808   \n",
       "3144  Ice Cube returns as Craig Jones, a streetwise ...    9.337388   \n",
       "1129  Rose Morgan (Barbara Streisand), who still liv...    3.844926   \n",
       "2456  Lloyd and Harry are two men whose stupidity is...   35.777067   \n",
       "\n",
       "                                   production_companies  \\\n",
       "4338  [Universal Pictures, Trumbull/Gruskoff Product...   \n",
       "4726  [Phantom Four, Mandalay Pictures, Bron Studios...   \n",
       "3144                                  [New Line Cinema]   \n",
       "1129               [TriStar Pictures, Phoenix Pictures]   \n",
       "2456  [New Line Cinema, Motion Picture Corporation o...   \n",
       "\n",
       "            production_countries  ...    revenue  runtime    spoken_languages  \\\n",
       "4338  [United States of America]  ...          0     89.0  [English, Deutsch]   \n",
       "4726  [United States of America]  ...   15861566    120.0           [English]   \n",
       "3144  [United States of America]  ...   59827328     98.0           [English]   \n",
       "1129  [United States of America]  ...          0    126.0           [English]   \n",
       "2456  [United States of America]  ...  247275374    107.0           [English]   \n",
       "\n",
       "        status                     title vote_average  vote_count  movie_id  \\\n",
       "4338  Released            Silent Running          6.3         177       811   \n",
       "4726  Released     The Birth of a Nation          6.5         178    339408   \n",
       "3144  Released               Next Friday          6.4         135     10471   \n",
       "1129  Released  The Mirror Has Two Faces          6.5          47     25189   \n",
       "2456  Released           Dumb and Dumber          6.5        1859      8467   \n",
       "\n",
       "                                                 cast  \\\n",
       "4338            [Bruce Dern, Cliff Potts, Ron Rifkin]   \n",
       "4726      [Nate Parker, Armie Hammer, Aja Naomi King]   \n",
       "3144             [Ice Cube, Mike Epps, Justin Pierce]   \n",
       "1129  [Barbra Streisand, Jeff Bridges, Lauren Bacall]   \n",
       "2456         [Jim Carrey, Jeff Daniels, Lauren Holly]   \n",
       "\n",
       "                              director  \n",
       "4338                [Douglas Trumbull]  \n",
       "4726                     [Nate Parker]  \n",
       "3144                      [Steve Carr]  \n",
       "1129                [Barbra Streisand]  \n",
       "2456  [Bobby Farrelly, Peter Farrelly]  \n",
       "\n",
       "[5 rows x 21 columns]"
      ]
     },
     "execution_count": 278,
     "metadata": {},
     "output_type": "execute_result"
    }
   ],
   "source": [
    "movies.sample(5)"
   ]
  },
  {
   "cell_type": "code",
   "execution_count": null,
   "id": "ab44051b-0510-44f1-8c13-642da136ac78",
   "metadata": {},
   "outputs": [],
   "source": []
  },
  {
   "cell_type": "code",
   "execution_count": null,
   "id": "633178b5-f913-415d-9c58-11ad7c39a245",
   "metadata": {},
   "outputs": [],
   "source": []
  },
  {
   "cell_type": "code",
   "execution_count": null,
   "id": "3b4eaead-158f-4071-a69a-985dc97accf5",
   "metadata": {},
   "outputs": [],
   "source": []
  },
  {
   "cell_type": "code",
   "execution_count": null,
   "id": "cd5020bf-f5e3-457e-8a50-ea5834dba04b",
   "metadata": {},
   "outputs": [],
   "source": []
  },
  {
   "cell_type": "code",
   "execution_count": null,
   "id": "737bf95c-0778-4795-88b0-b45b1b54446b",
   "metadata": {},
   "outputs": [],
   "source": []
  },
  {
   "cell_type": "code",
   "execution_count": null,
   "id": "6af7471d-c997-471f-857f-9c00b2815bbf",
   "metadata": {},
   "outputs": [],
   "source": []
  },
  {
   "cell_type": "markdown",
   "id": "cdb9af25-cb18-4e32-bc7b-cfd29041354a",
   "metadata": {},
   "source": [
    "### dataset3"
   ]
  },
  {
   "cell_type": "code",
   "execution_count": 279,
   "id": "d6937cba-e179-4e57-b714-7f6249c9e482",
   "metadata": {},
   "outputs": [],
   "source": [
    "imdb_movies_india = pd.read_csv('IMDb Movies India.csv',encoding=\"latin1\")"
   ]
  },
  {
   "cell_type": "code",
   "execution_count": 280,
   "id": "5cb6f87c-6c83-43ef-aff9-be0dc9550f0d",
   "metadata": {},
   "outputs": [
    {
     "data": {
      "text/html": [
       "<div>\n",
       "<style scoped>\n",
       "    .dataframe tbody tr th:only-of-type {\n",
       "        vertical-align: middle;\n",
       "    }\n",
       "\n",
       "    .dataframe tbody tr th {\n",
       "        vertical-align: top;\n",
       "    }\n",
       "\n",
       "    .dataframe thead th {\n",
       "        text-align: right;\n",
       "    }\n",
       "</style>\n",
       "<table border=\"1\" class=\"dataframe\">\n",
       "  <thead>\n",
       "    <tr style=\"text-align: right;\">\n",
       "      <th></th>\n",
       "      <th>Name</th>\n",
       "      <th>Year</th>\n",
       "      <th>Duration</th>\n",
       "      <th>Genre</th>\n",
       "      <th>Rating</th>\n",
       "      <th>Votes</th>\n",
       "      <th>Director</th>\n",
       "      <th>Actor 1</th>\n",
       "      <th>Actor 2</th>\n",
       "      <th>Actor 3</th>\n",
       "    </tr>\n",
       "  </thead>\n",
       "  <tbody>\n",
       "    <tr>\n",
       "      <th>1622</th>\n",
       "      <td>Badla Aurat Ka</td>\n",
       "      <td>(1987)</td>\n",
       "      <td>NaN</td>\n",
       "      <td>Action</td>\n",
       "      <td>NaN</td>\n",
       "      <td>NaN</td>\n",
       "      <td>Sarath Babu</td>\n",
       "      <td>Silk Smitha</td>\n",
       "      <td>NaN</td>\n",
       "      <td>NaN</td>\n",
       "    </tr>\n",
       "    <tr>\n",
       "      <th>11503</th>\n",
       "      <td>Rahu Ketu</td>\n",
       "      <td>(1978)</td>\n",
       "      <td>133 min</td>\n",
       "      <td>Action</td>\n",
       "      <td>5.8</td>\n",
       "      <td>20</td>\n",
       "      <td>B.R. Ishara</td>\n",
       "      <td>Shashi Kapoor</td>\n",
       "      <td>Rekha</td>\n",
       "      <td>Prem Nath</td>\n",
       "    </tr>\n",
       "    <tr>\n",
       "      <th>15484</th>\n",
       "      <td>Zinga</td>\n",
       "      <td>(2021)</td>\n",
       "      <td>NaN</td>\n",
       "      <td>Adventure, Fantasy, Sci-Fi</td>\n",
       "      <td>NaN</td>\n",
       "      <td>NaN</td>\n",
       "      <td>Jaishankar Chigurula</td>\n",
       "      <td>Sri Ram</td>\n",
       "      <td>Devan Sanjeev</td>\n",
       "      <td>Kasu Naveen Kumar</td>\n",
       "    </tr>\n",
       "  </tbody>\n",
       "</table>\n",
       "</div>"
      ],
      "text/plain": [
       "                 Name    Year Duration                       Genre  Rating  \\\n",
       "1622   Badla Aurat Ka  (1987)      NaN                      Action     NaN   \n",
       "11503       Rahu Ketu  (1978)  133 min                      Action     5.8   \n",
       "15484           Zinga  (2021)      NaN  Adventure, Fantasy, Sci-Fi     NaN   \n",
       "\n",
       "      Votes              Director        Actor 1        Actor 2  \\\n",
       "1622    NaN           Sarath Babu    Silk Smitha            NaN   \n",
       "11503    20           B.R. Ishara  Shashi Kapoor          Rekha   \n",
       "15484   NaN  Jaishankar Chigurula        Sri Ram  Devan Sanjeev   \n",
       "\n",
       "                 Actor 3  \n",
       "1622                 NaN  \n",
       "11503          Prem Nath  \n",
       "15484  Kasu Naveen Kumar  "
      ]
     },
     "execution_count": 280,
     "metadata": {},
     "output_type": "execute_result"
    }
   ],
   "source": [
    "imdb_movies_india.sample(3)"
   ]
  },
  {
   "cell_type": "code",
   "execution_count": 281,
   "id": "453522b1-2825-4e70-8adf-1f67c5a84915",
   "metadata": {},
   "outputs": [
    {
     "data": {
      "text/plain": [
       "(15509, 10)"
      ]
     },
     "execution_count": 281,
     "metadata": {},
     "output_type": "execute_result"
    }
   ],
   "source": [
    "imdb_movies_india.shape"
   ]
  },
  {
   "cell_type": "code",
   "execution_count": 282,
   "id": "e6bdc3c4-378e-4bce-9b12-5d0cfcaf0092",
   "metadata": {},
   "outputs": [],
   "source": [
    "imdb_movies_india['Year'] = imdb_movies_india['Year'].str.extract(r'(\\d{4})')"
   ]
  },
  {
   "cell_type": "code",
   "execution_count": 283,
   "id": "f42b6fcf-ed4e-4205-93c7-ef252e4f2597",
   "metadata": {},
   "outputs": [
    {
     "data": {
      "text/html": [
       "<div>\n",
       "<style scoped>\n",
       "    .dataframe tbody tr th:only-of-type {\n",
       "        vertical-align: middle;\n",
       "    }\n",
       "\n",
       "    .dataframe tbody tr th {\n",
       "        vertical-align: top;\n",
       "    }\n",
       "\n",
       "    .dataframe thead th {\n",
       "        text-align: right;\n",
       "    }\n",
       "</style>\n",
       "<table border=\"1\" class=\"dataframe\">\n",
       "  <thead>\n",
       "    <tr style=\"text-align: right;\">\n",
       "      <th></th>\n",
       "      <th>Name</th>\n",
       "      <th>Year</th>\n",
       "      <th>Duration</th>\n",
       "      <th>Genre</th>\n",
       "      <th>Rating</th>\n",
       "      <th>Votes</th>\n",
       "      <th>Director</th>\n",
       "      <th>Actor 1</th>\n",
       "      <th>Actor 2</th>\n",
       "      <th>Actor 3</th>\n",
       "    </tr>\n",
       "  </thead>\n",
       "  <tbody>\n",
       "    <tr>\n",
       "      <th>14344</th>\n",
       "      <td>Tigers</td>\n",
       "      <td>2014</td>\n",
       "      <td>94 min</td>\n",
       "      <td>Drama</td>\n",
       "      <td>7.3</td>\n",
       "      <td>1,553</td>\n",
       "      <td>Danis Tanovic</td>\n",
       "      <td>Emraan Hashmi</td>\n",
       "      <td>Geetanjali Thapa</td>\n",
       "      <td>Danny Huston</td>\n",
       "    </tr>\n",
       "    <tr>\n",
       "      <th>12802</th>\n",
       "      <td>Shahi Mehmaan</td>\n",
       "      <td>1955</td>\n",
       "      <td>NaN</td>\n",
       "      <td>NaN</td>\n",
       "      <td>NaN</td>\n",
       "      <td>NaN</td>\n",
       "      <td>Balwant Bhatt</td>\n",
       "      <td>Ranjan</td>\n",
       "      <td>Shammi</td>\n",
       "      <td>Shyama</td>\n",
       "    </tr>\n",
       "    <tr>\n",
       "      <th>5908</th>\n",
       "      <td>Humayun</td>\n",
       "      <td>1945</td>\n",
       "      <td>118 min</td>\n",
       "      <td>Drama, History</td>\n",
       "      <td>7.5</td>\n",
       "      <td>46</td>\n",
       "      <td>Mehboob Khan</td>\n",
       "      <td>Ashok Kumar</td>\n",
       "      <td>Veena</td>\n",
       "      <td>Nargis</td>\n",
       "    </tr>\n",
       "  </tbody>\n",
       "</table>\n",
       "</div>"
      ],
      "text/plain": [
       "                Name  Year Duration           Genre  Rating  Votes  \\\n",
       "14344         Tigers  2014   94 min           Drama     7.3  1,553   \n",
       "12802  Shahi Mehmaan  1955      NaN             NaN     NaN    NaN   \n",
       "5908         Humayun  1945  118 min  Drama, History     7.5     46   \n",
       "\n",
       "            Director        Actor 1           Actor 2       Actor 3  \n",
       "14344  Danis Tanovic  Emraan Hashmi  Geetanjali Thapa  Danny Huston  \n",
       "12802  Balwant Bhatt         Ranjan            Shammi        Shyama  \n",
       "5908    Mehboob Khan    Ashok Kumar             Veena        Nargis  "
      ]
     },
     "execution_count": 283,
     "metadata": {},
     "output_type": "execute_result"
    }
   ],
   "source": [
    "imdb_movies_india.sample(3)"
   ]
  },
  {
   "cell_type": "code",
   "execution_count": 284,
   "id": "a8cabb64-1fc3-49b8-9f6f-9084daad6ff2",
   "metadata": {},
   "outputs": [
    {
     "data": {
      "text/plain": [
       "Name           0\n",
       "Year         528\n",
       "Duration    8269\n",
       "Genre       1877\n",
       "Rating      7590\n",
       "Votes       7589\n",
       "Director     525\n",
       "Actor 1     1617\n",
       "Actor 2     2384\n",
       "Actor 3     3144\n",
       "dtype: int64"
      ]
     },
     "execution_count": 284,
     "metadata": {},
     "output_type": "execute_result"
    }
   ],
   "source": [
    "imdb_movies_india.isna().sum()"
   ]
  },
  {
   "cell_type": "code",
   "execution_count": 285,
   "id": "7f79c208-5c57-4cd9-8cde-70f9398a44e4",
   "metadata": {},
   "outputs": [
    {
     "data": {
      "text/plain": [
       "(15509, 10)"
      ]
     },
     "execution_count": 285,
     "metadata": {},
     "output_type": "execute_result"
    }
   ],
   "source": [
    "imdb_movies_india.shape"
   ]
  },
  {
   "cell_type": "code",
   "execution_count": 286,
   "id": "db3d8896-91e7-4f7f-bd81-0ac1094dd24a",
   "metadata": {},
   "outputs": [
    {
     "data": {
      "text/plain": [
       "Name         0.000000\n",
       "Year         3.404475\n",
       "Duration    53.317429\n",
       "Genre       12.102650\n",
       "Rating      48.939326\n",
       "Votes       48.932878\n",
       "Director     3.385131\n",
       "Actor 1     10.426204\n",
       "Actor 2     15.371720\n",
       "Actor 3     20.272100\n",
       "dtype: float64"
      ]
     },
     "execution_count": 286,
     "metadata": {},
     "output_type": "execute_result"
    }
   ],
   "source": [
    "imdb_movies_india.isna().mean() * 100"
   ]
  },
  {
   "cell_type": "code",
   "execution_count": 287,
   "id": "d5198182-66c0-48d7-b27f-965c21b1f1f9",
   "metadata": {},
   "outputs": [],
   "source": [
    "nan_percentage = imdb_movies_india.isna().mean() * 100\n",
    "columns_to_drop = nan_percentage[nan_percentage > 45].index\n",
    "imdb_movies_india = imdb_movies_india.drop(columns=columns_to_drop)"
   ]
  },
  {
   "cell_type": "code",
   "execution_count": 288,
   "id": "3d15d34f-acfb-456f-b10b-60bf60b002b4",
   "metadata": {},
   "outputs": [],
   "source": [
    "imdb_movies_india['All Actors'] = imdb_movies_india[['Actor 1', 'Actor 2', 'Actor 3']].apply(lambda x: x.tolist(), axis=1)"
   ]
  },
  {
   "cell_type": "code",
   "execution_count": 289,
   "id": "5ab923de-d23e-441e-9cb2-df414103f3d9",
   "metadata": {},
   "outputs": [
    {
     "data": {
      "text/html": [
       "<div>\n",
       "<style scoped>\n",
       "    .dataframe tbody tr th:only-of-type {\n",
       "        vertical-align: middle;\n",
       "    }\n",
       "\n",
       "    .dataframe tbody tr th {\n",
       "        vertical-align: top;\n",
       "    }\n",
       "\n",
       "    .dataframe thead th {\n",
       "        text-align: right;\n",
       "    }\n",
       "</style>\n",
       "<table border=\"1\" class=\"dataframe\">\n",
       "  <thead>\n",
       "    <tr style=\"text-align: right;\">\n",
       "      <th></th>\n",
       "      <th>Name</th>\n",
       "      <th>Year</th>\n",
       "      <th>Genre</th>\n",
       "      <th>Director</th>\n",
       "      <th>Actor 1</th>\n",
       "      <th>Actor 2</th>\n",
       "      <th>Actor 3</th>\n",
       "      <th>All Actors</th>\n",
       "    </tr>\n",
       "  </thead>\n",
       "  <tbody>\n",
       "    <tr>\n",
       "      <th>1652</th>\n",
       "      <td>Badnami</td>\n",
       "      <td>1946</td>\n",
       "      <td>NaN</td>\n",
       "      <td>Majnu</td>\n",
       "      <td>Geeta Bali</td>\n",
       "      <td>Pran</td>\n",
       "      <td>Balraj Sahni</td>\n",
       "      <td>[Geeta Bali, Pran, Balraj Sahni]</td>\n",
       "    </tr>\n",
       "    <tr>\n",
       "      <th>11363</th>\n",
       "      <td>Qayamat Hi Qayamat</td>\n",
       "      <td>2012</td>\n",
       "      <td>Action, Drama</td>\n",
       "      <td>Vicky Ranawat</td>\n",
       "      <td>Prem Chopra</td>\n",
       "      <td>Zakir Hussain</td>\n",
       "      <td>Puneet Issar</td>\n",
       "      <td>[Prem Chopra, Zakir Hussain, Puneet Issar]</td>\n",
       "    </tr>\n",
       "    <tr>\n",
       "      <th>15172</th>\n",
       "      <td>Yakeen</td>\n",
       "      <td>2005</td>\n",
       "      <td>Drama, Thriller</td>\n",
       "      <td>Girish Dhamija</td>\n",
       "      <td>Arjun Rampal</td>\n",
       "      <td>Priyanka Chopra Jonas</td>\n",
       "      <td>Kim Sharma</td>\n",
       "      <td>[Arjun Rampal, Priyanka Chopra Jonas, Kim Sharma]</td>\n",
       "    </tr>\n",
       "  </tbody>\n",
       "</table>\n",
       "</div>"
      ],
      "text/plain": [
       "                     Name  Year            Genre        Director  \\\n",
       "1652              Badnami  1946              NaN           Majnu   \n",
       "11363  Qayamat Hi Qayamat  2012    Action, Drama   Vicky Ranawat   \n",
       "15172              Yakeen  2005  Drama, Thriller  Girish Dhamija   \n",
       "\n",
       "            Actor 1                Actor 2       Actor 3  \\\n",
       "1652     Geeta Bali                   Pran  Balraj Sahni   \n",
       "11363   Prem Chopra          Zakir Hussain  Puneet Issar   \n",
       "15172  Arjun Rampal  Priyanka Chopra Jonas    Kim Sharma   \n",
       "\n",
       "                                              All Actors  \n",
       "1652                    [Geeta Bali, Pran, Balraj Sahni]  \n",
       "11363         [Prem Chopra, Zakir Hussain, Puneet Issar]  \n",
       "15172  [Arjun Rampal, Priyanka Chopra Jonas, Kim Sharma]  "
      ]
     },
     "execution_count": 289,
     "metadata": {},
     "output_type": "execute_result"
    }
   ],
   "source": [
    "imdb_movies_india.sample(3)"
   ]
  },
  {
   "cell_type": "code",
   "execution_count": 290,
   "id": "fce3eefd-3974-4a15-9cc2-0559cc354417",
   "metadata": {},
   "outputs": [],
   "source": [
    "imdb_movies_india.drop(columns=imdb_movies_india[['Actor 1', 'Actor 2', 'Actor 3']],axis=0,inplace=True)"
   ]
  },
  {
   "cell_type": "code",
   "execution_count": 291,
   "id": "af2a6fd8-3857-4c65-9295-323c31bb15c5",
   "metadata": {},
   "outputs": [
    {
     "data": {
      "text/plain": [
       "(15509, 5)"
      ]
     },
     "execution_count": 291,
     "metadata": {},
     "output_type": "execute_result"
    }
   ],
   "source": [
    "imdb_movies_india.shape"
   ]
  },
  {
   "cell_type": "code",
   "execution_count": 292,
   "id": "cd3f09ee-8aee-4a74-9024-e5999dc3a928",
   "metadata": {},
   "outputs": [],
   "source": [
    "def all_nan(lst):\n",
    "    return all(pd.isna(x) for x in lst)\n",
    "\n",
    "# Apply the function to each row and filter out rows where all values are NaN\n",
    "imdb_movies_india = imdb_movies_india[~imdb_movies_india['All Actors'].apply(all_nan)]"
   ]
  },
  {
   "cell_type": "code",
   "execution_count": 293,
   "id": "b5b5c504-2056-4444-9820-65b7df7850d6",
   "metadata": {},
   "outputs": [
    {
     "data": {
      "text/html": [
       "<div>\n",
       "<style scoped>\n",
       "    .dataframe tbody tr th:only-of-type {\n",
       "        vertical-align: middle;\n",
       "    }\n",
       "\n",
       "    .dataframe tbody tr th {\n",
       "        vertical-align: top;\n",
       "    }\n",
       "\n",
       "    .dataframe thead th {\n",
       "        text-align: right;\n",
       "    }\n",
       "</style>\n",
       "<table border=\"1\" class=\"dataframe\">\n",
       "  <thead>\n",
       "    <tr style=\"text-align: right;\">\n",
       "      <th></th>\n",
       "      <th>Name</th>\n",
       "      <th>Year</th>\n",
       "      <th>Genre</th>\n",
       "      <th>Director</th>\n",
       "      <th>All Actors</th>\n",
       "    </tr>\n",
       "  </thead>\n",
       "  <tbody>\n",
       "    <tr>\n",
       "      <th>6034</th>\n",
       "      <td>In 1998, Mehndi was signed by Coca-Cola for pr...</td>\n",
       "      <td>1998</td>\n",
       "      <td>Musical</td>\n",
       "      <td>Deepak Gattani</td>\n",
       "      <td>[Daler Mehndi, nan, nan]</td>\n",
       "    </tr>\n",
       "    <tr>\n",
       "      <th>11978</th>\n",
       "      <td>Room No. 203</td>\n",
       "      <td>1980</td>\n",
       "      <td>Mystery</td>\n",
       "      <td>Parikshit Sahni</td>\n",
       "      <td>[Bindu, Shyamalee, Jagdeep]</td>\n",
       "    </tr>\n",
       "    <tr>\n",
       "      <th>1473</th>\n",
       "      <td>B.A. Pass 2</td>\n",
       "      <td>2017</td>\n",
       "      <td>Drama</td>\n",
       "      <td>Shadab Khan</td>\n",
       "      <td>[Shadab Khan, Kritika Sachdeva, Satiiysh Saara...</td>\n",
       "    </tr>\n",
       "  </tbody>\n",
       "</table>\n",
       "</div>"
      ],
      "text/plain": [
       "                                                    Name  Year    Genre  \\\n",
       "6034   In 1998, Mehndi was signed by Coca-Cola for pr...  1998  Musical   \n",
       "11978                                       Room No. 203  1980  Mystery   \n",
       "1473                                         B.A. Pass 2  2017    Drama   \n",
       "\n",
       "              Director                                         All Actors  \n",
       "6034    Deepak Gattani                           [Daler Mehndi, nan, nan]  \n",
       "11978  Parikshit Sahni                        [Bindu, Shyamalee, Jagdeep]  \n",
       "1473       Shadab Khan  [Shadab Khan, Kritika Sachdeva, Satiiysh Saara...  "
      ]
     },
     "execution_count": 293,
     "metadata": {},
     "output_type": "execute_result"
    }
   ],
   "source": [
    "imdb_movies_india.sample(3)"
   ]
  },
  {
   "cell_type": "code",
   "execution_count": 294,
   "id": "391b565b-37b4-4311-a06a-668468623265",
   "metadata": {},
   "outputs": [
    {
     "data": {
      "text/plain": [
       "(13892, 5)"
      ]
     },
     "execution_count": 294,
     "metadata": {},
     "output_type": "execute_result"
    }
   ],
   "source": [
    "imdb_movies_india.shape"
   ]
  },
  {
   "cell_type": "code",
   "execution_count": 295,
   "id": "84c28aca-4e8d-4755-9980-18f562499fdc",
   "metadata": {},
   "outputs": [
    {
     "data": {
      "text/html": [
       "<div>\n",
       "<style scoped>\n",
       "    .dataframe tbody tr th:only-of-type {\n",
       "        vertical-align: middle;\n",
       "    }\n",
       "\n",
       "    .dataframe tbody tr th {\n",
       "        vertical-align: top;\n",
       "    }\n",
       "\n",
       "    .dataframe thead th {\n",
       "        text-align: right;\n",
       "    }\n",
       "</style>\n",
       "<table border=\"1\" class=\"dataframe\">\n",
       "  <thead>\n",
       "    <tr style=\"text-align: right;\">\n",
       "      <th></th>\n",
       "      <th>Name</th>\n",
       "      <th>Year</th>\n",
       "      <th>Genre</th>\n",
       "      <th>Director</th>\n",
       "      <th>All Actors</th>\n",
       "    </tr>\n",
       "  </thead>\n",
       "  <tbody>\n",
       "  </tbody>\n",
       "</table>\n",
       "</div>"
      ],
      "text/plain": [
       "Empty DataFrame\n",
       "Columns: [Name, Year, Genre, Director, All Actors]\n",
       "Index: []"
      ]
     },
     "execution_count": 295,
     "metadata": {},
     "output_type": "execute_result"
    }
   ],
   "source": [
    "imdb_movies_india[imdb_movies_india['Name'] == 'Kaafir']\n"
   ]
  },
  {
   "cell_type": "code",
   "execution_count": 296,
   "id": "2121a917-48b4-4640-8a7f-1b50a941c481",
   "metadata": {},
   "outputs": [],
   "source": [
    "imdb_movies_india['All Actors'] = imdb_movies_india['All Actors'].apply(lambda x: [i for i in x if not (isinstance(i, float) and math.isnan(i))])"
   ]
  },
  {
   "cell_type": "code",
   "execution_count": 298,
   "id": "d26396eb-2052-4913-8076-bbed512e5c3c",
   "metadata": {},
   "outputs": [],
   "source": [
    "# imdb_movies_india.drop(['Column1', 'All NaN'], axis=1,inplace=True)"
   ]
  },
  {
   "cell_type": "code",
   "execution_count": 329,
   "id": "4e9781dd-b25f-4764-a08e-d6d097267e21",
   "metadata": {},
   "outputs": [
    {
     "data": {
      "text/html": [
       "<div>\n",
       "<style scoped>\n",
       "    .dataframe tbody tr th:only-of-type {\n",
       "        vertical-align: middle;\n",
       "    }\n",
       "\n",
       "    .dataframe tbody tr th {\n",
       "        vertical-align: top;\n",
       "    }\n",
       "\n",
       "    .dataframe thead th {\n",
       "        text-align: right;\n",
       "    }\n",
       "</style>\n",
       "<table border=\"1\" class=\"dataframe\">\n",
       "  <thead>\n",
       "    <tr style=\"text-align: right;\">\n",
       "      <th></th>\n",
       "      <th>Name</th>\n",
       "      <th>Year</th>\n",
       "      <th>Genre</th>\n",
       "      <th>Director</th>\n",
       "      <th>All Actors</th>\n",
       "    </tr>\n",
       "  </thead>\n",
       "  <tbody>\n",
       "    <tr>\n",
       "      <th>1187</th>\n",
       "      <td>Anyay Hi Anyay</td>\n",
       "      <td>1997</td>\n",
       "      <td>[Action, Crime, Drama]</td>\n",
       "      <td>[Tarun Wadhwa]</td>\n",
       "      <td>[Rita Bhaduri, Sulabha Deshpande, Shafi Inamdar]</td>\n",
       "    </tr>\n",
       "    <tr>\n",
       "      <th>1966</th>\n",
       "      <td>Beehad - The Ravine</td>\n",
       "      <td>2013</td>\n",
       "      <td>[Drama]</td>\n",
       "      <td>[Krishna Mishra]</td>\n",
       "      <td>[Pawan Rajput, Satyajeet Rajput, Vikas Shrivas...</td>\n",
       "    </tr>\n",
       "    <tr>\n",
       "      <th>3572</th>\n",
       "      <td>Deha</td>\n",
       "      <td>2007</td>\n",
       "      <td>[Romance]</td>\n",
       "      <td>[Mahesh Manjrekar]</td>\n",
       "      <td>[Mahesh Manjrekar, Jaya Prada, Supriya Karnik]</td>\n",
       "    </tr>\n",
       "    <tr>\n",
       "      <th>4474</th>\n",
       "      <td>Ek Naya Rishta</td>\n",
       "      <td>1988</td>\n",
       "      <td>[Family]</td>\n",
       "      <td>[Vinod Pande]</td>\n",
       "      <td>[Rekha, Raj Kiran, Mazhar Khan]</td>\n",
       "    </tr>\n",
       "    <tr>\n",
       "      <th>467</th>\n",
       "      <td>Aas</td>\n",
       "      <td>1953</td>\n",
       "      <td>[Romance]</td>\n",
       "      <td>[Devendra Goel]</td>\n",
       "      <td>[Kamini Kaushal, Shekhar, Om Prakash]</td>\n",
       "    </tr>\n",
       "  </tbody>\n",
       "</table>\n",
       "</div>"
      ],
      "text/plain": [
       "                     Name  Year                   Genre            Director  \\\n",
       "1187       Anyay Hi Anyay  1997  [Action, Crime, Drama]      [Tarun Wadhwa]   \n",
       "1966  Beehad - The Ravine  2013                 [Drama]    [Krishna Mishra]   \n",
       "3572                 Deha  2007               [Romance]  [Mahesh Manjrekar]   \n",
       "4474       Ek Naya Rishta  1988                [Family]       [Vinod Pande]   \n",
       "467                   Aas  1953               [Romance]     [Devendra Goel]   \n",
       "\n",
       "                                             All Actors  \n",
       "1187   [Rita Bhaduri, Sulabha Deshpande, Shafi Inamdar]  \n",
       "1966  [Pawan Rajput, Satyajeet Rajput, Vikas Shrivas...  \n",
       "3572     [Mahesh Manjrekar, Jaya Prada, Supriya Karnik]  \n",
       "4474                    [Rekha, Raj Kiran, Mazhar Khan]  \n",
       "467               [Kamini Kaushal, Shekhar, Om Prakash]  "
      ]
     },
     "execution_count": 329,
     "metadata": {},
     "output_type": "execute_result"
    }
   ],
   "source": [
    "imdb_movies_india.sample(5)"
   ]
  },
  {
   "cell_type": "code",
   "execution_count": 300,
   "id": "bd66e4cf-2bb8-47c9-8f10-9c5083a02e34",
   "metadata": {},
   "outputs": [],
   "source": [
    "imdb_movies_india.dropna(subset=['Genre','Year'],inplace=True)"
   ]
  },
  {
   "cell_type": "code",
   "execution_count": 301,
   "id": "0670e242-a369-4742-bd96-4db64eac2c72",
   "metadata": {},
   "outputs": [
    {
     "data": {
      "text/plain": [
       "(12029, 5)"
      ]
     },
     "execution_count": 301,
     "metadata": {},
     "output_type": "execute_result"
    }
   ],
   "source": [
    "imdb_movies_india.shape"
   ]
  },
  {
   "cell_type": "code",
   "execution_count": 302,
   "id": "763dc83a-4759-4372-8fd6-f59e88f4de48",
   "metadata": {},
   "outputs": [],
   "source": [
    "# imdb_movies_india['Genre'] = imdb_movies_india['Genre'].apply(lambda x: x.split(', ') if ', ' in x else [x])\n",
    "# imdb_movies_india['Director'] = imdb_movies_india['Director'].apply(lambda x: [x]) #only 1 time"
   ]
  },
  {
   "cell_type": "code",
   "execution_count": 331,
   "id": "f437ccea-95c1-4bc4-91d5-d5f6ec8c86f2",
   "metadata": {},
   "outputs": [
    {
     "data": {
      "text/html": [
       "<div>\n",
       "<style scoped>\n",
       "    .dataframe tbody tr th:only-of-type {\n",
       "        vertical-align: middle;\n",
       "    }\n",
       "\n",
       "    .dataframe tbody tr th {\n",
       "        vertical-align: top;\n",
       "    }\n",
       "\n",
       "    .dataframe thead th {\n",
       "        text-align: right;\n",
       "    }\n",
       "</style>\n",
       "<table border=\"1\" class=\"dataframe\">\n",
       "  <thead>\n",
       "    <tr style=\"text-align: right;\">\n",
       "      <th></th>\n",
       "      <th>Name</th>\n",
       "      <th>Year</th>\n",
       "      <th>Genre</th>\n",
       "      <th>Director</th>\n",
       "      <th>All Actors</th>\n",
       "    </tr>\n",
       "  </thead>\n",
       "  <tbody>\n",
       "    <tr>\n",
       "      <th>5344</th>\n",
       "      <td>Guthlee</td>\n",
       "      <td>2022</td>\n",
       "      <td>[Drama]</td>\n",
       "      <td>[Ishrat R. Khan]</td>\n",
       "      <td>[Sanjay Mishra, Subrat Dutta, Kalyanee Mulay]</td>\n",
       "    </tr>\n",
       "    <tr>\n",
       "      <th>2699</th>\n",
       "      <td>Chaalbaaz in London</td>\n",
       "      <td>2022</td>\n",
       "      <td>[Comedy]</td>\n",
       "      <td>[Pankaj Parashar]</td>\n",
       "      <td>[Shraddha Kapoor]</td>\n",
       "    </tr>\n",
       "    <tr>\n",
       "      <th>4534</th>\n",
       "      <td>Ek Villain Returns</td>\n",
       "      <td>2022</td>\n",
       "      <td>[Action, Thriller]</td>\n",
       "      <td>[Mohit Suri]</td>\n",
       "      <td>[Disha Patani, John Abraham, Arjun Kapoor]</td>\n",
       "    </tr>\n",
       "    <tr>\n",
       "      <th>12265</th>\n",
       "      <td>Salaar</td>\n",
       "      <td>2022</td>\n",
       "      <td>[Action]</td>\n",
       "      <td>[Prashanth Neel]</td>\n",
       "      <td>[Prabhas, Shruti Haasan, Mostafiz Mortoza]</td>\n",
       "    </tr>\n",
       "    <tr>\n",
       "      <th>3162</th>\n",
       "      <td>Cirkus</td>\n",
       "      <td>2022</td>\n",
       "      <td>[Comedy]</td>\n",
       "      <td>[Rohit Shetty]</td>\n",
       "      <td>[Jacqueline Fernandez, Pooja Hegde, Ranveer Si...</td>\n",
       "    </tr>\n",
       "    <tr>\n",
       "      <th>1065</th>\n",
       "      <td>Animal</td>\n",
       "      <td>2022</td>\n",
       "      <td>[Action, Drama]</td>\n",
       "      <td>[Sandeep Reddy Vanga]</td>\n",
       "      <td>[Ranbir Kapoor, Parineeti Chopra, Anil Kapoor]</td>\n",
       "    </tr>\n",
       "    <tr>\n",
       "      <th>14125</th>\n",
       "      <td>The Intern</td>\n",
       "      <td>2022</td>\n",
       "      <td>[Comedy, Drama, Thriller]</td>\n",
       "      <td>[Deepika Padukone]</td>\n",
       "      <td>[Amitabh Bachchan]</td>\n",
       "    </tr>\n",
       "    <tr>\n",
       "      <th>9042</th>\n",
       "      <td>Mayday</td>\n",
       "      <td>2022</td>\n",
       "      <td>[Drama, Thriller]</td>\n",
       "      <td>[Ajay Devgn]</td>\n",
       "      <td>[Amitabh Bachchan, Rakul Preet Singh, Ajay Devgn]</td>\n",
       "    </tr>\n",
       "    <tr>\n",
       "      <th>2221</th>\n",
       "      <td>Bhediya</td>\n",
       "      <td>2022</td>\n",
       "      <td>[Comedy, Horror]</td>\n",
       "      <td>[Amar Kaushik]</td>\n",
       "      <td>[Kriti Sanon, Varun Dhawan, Abhishek Banerjee]</td>\n",
       "    </tr>\n",
       "    <tr>\n",
       "      <th>14939</th>\n",
       "      <td>Vo Ladki</td>\n",
       "      <td>2022</td>\n",
       "      <td>[Drama, Romance]</td>\n",
       "      <td>[Praween Kumar Pandey]</td>\n",
       "      <td>[Dharmendra Ahirwar, Sanit Swami]</td>\n",
       "    </tr>\n",
       "  </tbody>\n",
       "</table>\n",
       "</div>"
      ],
      "text/plain": [
       "                      Name  Year                      Genre  \\\n",
       "5344               Guthlee  2022                    [Drama]   \n",
       "2699   Chaalbaaz in London  2022                   [Comedy]   \n",
       "4534    Ek Villain Returns  2022         [Action, Thriller]   \n",
       "12265               Salaar  2022                   [Action]   \n",
       "3162                Cirkus  2022                   [Comedy]   \n",
       "1065                Animal  2022            [Action, Drama]   \n",
       "14125           The Intern  2022  [Comedy, Drama, Thriller]   \n",
       "9042                Mayday  2022          [Drama, Thriller]   \n",
       "2221               Bhediya  2022           [Comedy, Horror]   \n",
       "14939             Vo Ladki  2022           [Drama, Romance]   \n",
       "\n",
       "                     Director  \\\n",
       "5344         [Ishrat R. Khan]   \n",
       "2699        [Pankaj Parashar]   \n",
       "4534             [Mohit Suri]   \n",
       "12265        [Prashanth Neel]   \n",
       "3162           [Rohit Shetty]   \n",
       "1065    [Sandeep Reddy Vanga]   \n",
       "14125      [Deepika Padukone]   \n",
       "9042             [Ajay Devgn]   \n",
       "2221           [Amar Kaushik]   \n",
       "14939  [Praween Kumar Pandey]   \n",
       "\n",
       "                                              All Actors  \n",
       "5344       [Sanjay Mishra, Subrat Dutta, Kalyanee Mulay]  \n",
       "2699                                   [Shraddha Kapoor]  \n",
       "4534          [Disha Patani, John Abraham, Arjun Kapoor]  \n",
       "12265         [Prabhas, Shruti Haasan, Mostafiz Mortoza]  \n",
       "3162   [Jacqueline Fernandez, Pooja Hegde, Ranveer Si...  \n",
       "1065      [Ranbir Kapoor, Parineeti Chopra, Anil Kapoor]  \n",
       "14125                                 [Amitabh Bachchan]  \n",
       "9042   [Amitabh Bachchan, Rakul Preet Singh, Ajay Devgn]  \n",
       "2221      [Kriti Sanon, Varun Dhawan, Abhishek Banerjee]  \n",
       "14939                  [Dharmendra Ahirwar, Sanit Swami]  "
      ]
     },
     "execution_count": 331,
     "metadata": {},
     "output_type": "execute_result"
    }
   ],
   "source": [
    "imdb_movies_india.sort_values(by='Year').tail(10)"
   ]
  },
  {
   "cell_type": "code",
   "execution_count": null,
   "id": "3f9c2339-6ccd-491f-a420-275eb4f0a368",
   "metadata": {},
   "outputs": [],
   "source": []
  }
 ],
 "metadata": {
  "kernelspec": {
   "display_name": "Python 3 (ipykernel)",
   "language": "python",
   "name": "python3"
  },
  "language_info": {
   "codemirror_mode": {
    "name": "ipython",
    "version": 3
   },
   "file_extension": ".py",
   "mimetype": "text/x-python",
   "name": "python",
   "nbconvert_exporter": "python",
   "pygments_lexer": "ipython3",
   "version": "3.12.4"
  }
 },
 "nbformat": 4,
 "nbformat_minor": 5
}
